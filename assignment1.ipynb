{
 "cells": [
  {
   "cell_type": "code",
   "execution_count": 2,
   "metadata": {},
   "outputs": [
    {
     "name": "stdout",
     "output_type": "stream",
     "text": [
      "23\n",
      "['Hey', 'I', 'am', 'from', 'New', 'Delhi']\n"
     ]
    }
   ],
   "source": [
    "a=\"Hey I am from New Delhi\"\n",
    "print(len(a))\n",
    "lis=a.split()\n",
    "print(lis)"
   ]
  },
  {
   "cell_type": "code",
   "execution_count": 3,
   "metadata": {},
   "outputs": [
    {
     "name": "stdout",
     "output_type": "stream",
     "text": [
      "Name is rahul\n",
      "Rame Is Rahul\n",
      "NAME IS RAHUL\n"
     ]
    }
   ],
   "source": [
    "a=\"name is rahul\"\n",
    "print(a.capitalize())\n",
    "print(a.replace(\"n\",\"r\").title())\n",
    "print(a.upper())"
   ]
  },
  {
   "cell_type": "code",
   "execution_count": 16,
   "metadata": {},
   "outputs": [
    {
     "name": "stdout",
     "output_type": "stream",
     "text": [
      "input lenght a=10\n",
      "input breadth b=8\n",
      "perimeter is= 18.0\n",
      "area is 80.0\n"
     ]
    }
   ],
   "source": [
    "def rectangle_area(a,b):\n",
    "    print(\"perimeter is=\",a+b)\n",
    "    print(\"area is\",a*b)\n",
    "lenght=float(input(\"input lenght a=\"))\n",
    "breadth=float(input(\"input breadth b=\"))\n",
    "rectangle_area(lenght,breadth)"
   ]
  },
  {
   "cell_type": "code",
   "execution_count": 35,
   "metadata": {},
   "outputs": [
    {
     "name": "stdout",
     "output_type": "stream",
     "text": [
      "diameter of the circle=6\n",
      "circumfernce of circle is= 18.84\n",
      "area of the circle is= 28.259999999999998\n"
     ]
    }
   ],
   "source": [
    "a=int(input(\"diameter of the circle=\"))\n",
    "r=a/2\n",
    "print(\"circumfernce of circle is=\",2*3.14*r)\n",
    "print(\"area of the circle is=\",3.14*r*r)\n"
   ]
  },
  {
   "cell_type": "code",
   "execution_count": 18,
   "metadata": {},
   "outputs": [
    {
     "name": "stdout",
     "output_type": "stream",
     "text": [
      "a4 \n",
      "b5\n",
      "c6\n",
      "roots are= (-0.625-1.0532687216470449j) (-0.625+1.0532687216470449j)\n"
     ]
    }
   ],
   "source": [
    "import cmath\n",
    "a=float(input(\"a\"))\n",
    "b=float(input(\"b\"))\n",
    "c=float(input(\"c\"))\n",
    "d=(b**2)-(4*a*c)\n",
    "x1=(-b-cmath.sqrt(d))/(2*a)\n",
    "x2=(-b+cmath.sqrt(d))/(2*a)\n",
    "print(\"roots are=\",x1,x2)"
   ]
  },
  {
   "cell_type": "code",
   "execution_count": 19,
   "metadata": {},
   "outputs": [
    {
     "name": "stdout",
     "output_type": "stream",
     "text": [
      "enter the radius=4\n",
      "268.082573106329\n"
     ]
    }
   ],
   "source": [
    "import math\n",
    "r=float(input(\"enter the radius=\"))\n",
    "vol=(4/3)*math.pi*r**3\n",
    "print(vol)"
   ]
  },
  {
   "cell_type": "code",
   "execution_count": 22,
   "metadata": {},
   "outputs": [
    {
     "name": "stdout",
     "output_type": "stream",
     "text": [
      "enter the number=1234567890\n",
      "10\n"
     ]
    }
   ],
   "source": [
    "num=input(\"enter the number=\")\n",
    "count=0\n",
    "for i in num:\n",
    "    count=count+1\n",
    "print(count)"
   ]
  },
  {
   "cell_type": "code",
   "execution_count": 24,
   "metadata": {},
   "outputs": [
    {
     "name": "stdout",
     "output_type": "stream",
     "text": [
      "enter the stringvipul\n",
      "VIPUL\n"
     ]
    }
   ],
   "source": [
    "string=input(\"enter the string\")\n",
    "print(string.upper())"
   ]
  },
  {
   "cell_type": "code",
   "execution_count": 28,
   "metadata": {},
   "outputs": [
    {
     "name": "stdout",
     "output_type": "stream",
     "text": [
      "stringwaat\n",
      "index number=0\n",
      "character to replace wiht j\n",
      "jaat\n"
     ]
    }
   ],
   "source": [
    "a=input(\"string\")\n",
    "b=int(input(\"index number=\"))\n",
    "c=input(\"character to replace wiht \")\n",
    "lis=[]\n",
    "for i in a:\n",
    "    lis.append(i)\n",
    "    lis[b]=c\n",
    "print(\"\".join(lis))"
   ]
  },
  {
   "cell_type": "code",
   "execution_count": 29,
   "metadata": {},
   "outputs": [
    {
     "name": "stdout",
     "output_type": "stream",
     "text": [
      "stringvipul\n",
      "lupiv\n"
     ]
    }
   ],
   "source": [
    "s=input(\"string\")\n",
    "print(s[::-1])"
   ]
  },
  {
   "cell_type": "code",
   "execution_count": null,
   "metadata": {},
   "outputs": [],
   "source": []
  }
 ],
 "metadata": {
  "kernelspec": {
   "display_name": "Python 3",
   "language": "python",
   "name": "python3"
  },
  "language_info": {
   "codemirror_mode": {
    "name": "ipython",
    "version": 3
   },
   "file_extension": ".py",
   "mimetype": "text/x-python",
   "name": "python",
   "nbconvert_exporter": "python",
   "pygments_lexer": "ipython3",
   "version": "3.7.3"
  }
 },
 "nbformat": 4,
 "nbformat_minor": 2
}
