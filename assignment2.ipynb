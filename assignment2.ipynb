{
 "cells": [
  {
   "cell_type": "code",
   "execution_count": 1,
   "metadata": {},
   "outputs": [
    {
     "name": "stdout",
     "output_type": "stream",
     "text": [
      "enter range5\n",
      "1\n",
      "2\n",
      "3\n",
      "4\n",
      "5\n",
      "reverse\n",
      "5\n",
      "4\n",
      "3\n",
      "2\n",
      "1\n"
     ]
    }
   ],
   "source": [
    "# Q1. Write a program to print all the natural numbers from 1 to n (user input). Then print the same in reverse order.\n",
    "\n",
    "n = int(input(\"enter range\"))\n",
    "for i in range(1,n+1):\n",
    "    print(i)\n",
    "print(\"reverse\")\n",
    "while n >0 :\n",
    "    print(n)\n",
    "    n -=1"
   ]
  },
  {
   "cell_type": "code",
   "execution_count": 2,
   "metadata": {},
   "outputs": [
    {
     "name": "stdout",
     "output_type": "stream",
     "text": [
      "odd\n",
      "1 3 5 7 9 11 13 15 17 19 21 23 25 27 29 31 33 35 37 39 41 43 45 47 49 51 53 55 57 59 61 63 65 67 69 71 73 75 77 79 81 83 85 87 89 91 93 95 97 99 \n",
      "even\n",
      "2 4 6 8 10 12 14 16 18 20 22 24 26 28 30 32 34 36 38 40 42 44 46 48 50 52 54 56 58 60 62 64 66 68 70 72 74 76 78 80 82 84 86 88 90 92 94 96 98 100 "
     ]
    }
   ],
   "source": [
    "# Q2. Print all odd numbers and even numbers between 1 to 100\n",
    "print(\"odd\")\n",
    "for i in range(1,101):\n",
    "    if i % 2!=0 :\n",
    "        print(i, end = \" \")\n",
    "print(\"\\neven\")\n",
    "for i in range(1,101):\n",
    "    if i % 2==0 :\n",
    "        print(i ,end=\" \")"
   ]
  },
  {
   "cell_type": "code",
   "execution_count": 3,
   "metadata": {},
   "outputs": [
    {
     "name": "stdout",
     "output_type": "stream",
     "text": [
      "10\n",
      "10 is not a prime number\n"
     ]
    }
   ],
   "source": [
    "# Q3. Write a program to check if a number is prime or not. \n",
    "num= int ( input( ))\n",
    "if num > 1:\n",
    "\n",
    "\n",
    "    for i in range(2, int(num/2)+1):\n",
    "        if (num % i) == 0:\n",
    "            print(num, \"is not a prime number\")\n",
    "            break\n",
    "    else:\n",
    "        print(num, \"is a prime number\")\n",
    "\n",
    "else:\n",
    "    print(num, \"is not a prime number\")"
   ]
  },
  {
   "cell_type": "code",
   "execution_count": 4,
   "metadata": {},
   "outputs": [
    {
     "name": "stdout",
     "output_type": "stream",
     "text": [
      "7\n",
      "sum is  14\n"
     ]
    }
   ],
   "source": [
    "# Q4. Write a program that asks the user for a number n and prints the sum of the numbers 1 to n such that only multiples of three or five are considered in the sum, e.g. 3, 5, 6, 9, 10, 12, 15 for n=17.\n",
    "n= int ( input( ))\n",
    "s=0\n",
    "for i in range(1,n+1):\n",
    "    if ((i%3==0)or(i%5==0)):\n",
    "        s+=i\n",
    "print(\"sum is \",s)"
   ]
  },
  {
   "cell_type": "code",
   "execution_count": 5,
   "metadata": {},
   "outputs": [
    {
     "name": "stdout",
     "output_type": "stream",
     "text": [
      "10\n",
      " choose 1 for sum of n numbers \n",
      " choose 2 for product of n numbers2\n",
      "2\n",
      "product is  3628800\n"
     ]
    }
   ],
   "source": [
    "# Q5. Write a program that asks the user for a number n and gives them the possibility to choose between computing the sum and computing the product of 1,…,n.\n",
    "n= int ( input( ))\n",
    "choice= int(input(\" choose 1 for sum of n numbers \\n choose 2 for product of n numbers\"))\n",
    "sum=0\n",
    "product=1\n",
    "print(choice)\n",
    "if choice==1 :\n",
    "    for i in range (1,n+1):\n",
    "        sum = sum + i\n",
    "    print(\"sum is \",sum)\n",
    "    \n",
    "    \n",
    "elif choice==2:\n",
    "    \n",
    "    for i in range(1,n+1):\n",
    "        product = product * i\n",
    "    print(\"product is \",product)\n",
    "else:\n",
    "    print(\"choose correct option\")"
   ]
  },
  {
   "cell_type": "code",
   "execution_count": 6,
   "metadata": {},
   "outputs": [
    {
     "name": "stdout",
     "output_type": "stream",
     "text": [
      "234168\n"
     ]
    }
   ],
   "source": [
    "# Q6. Find the sum of all the multiples of 3 or 5 below 1000.\n",
    "sum=0\n",
    "for i in range(1,1001):\n",
    "    if ((i%3==0)or(i%5==0)):\n",
    "        sum = sum + i\n",
    "print(sum)"
   ]
  },
  {
   "cell_type": "code",
   "execution_count": 7,
   "metadata": {},
   "outputs": [
    {
     "name": "stdout",
     "output_type": "stream",
     "text": [
      "2002\n",
      "2009\n",
      "2016\n",
      "2023\n",
      "2037\n",
      "2044\n",
      "2051\n",
      "2058\n",
      "2072\n",
      "2079\n",
      "2086\n",
      "2093\n",
      "2107\n",
      "2114\n",
      "2121\n",
      "2128\n",
      "2142\n",
      "2149\n",
      "2156\n",
      "2163\n",
      "2177\n",
      "2184\n",
      "2191\n",
      "2198\n",
      "2212\n",
      "2219\n",
      "2226\n",
      "2233\n",
      "2247\n",
      "2254\n",
      "2261\n",
      "2268\n",
      "2282\n",
      "2289\n",
      "2296\n",
      "2303\n",
      "2317\n",
      "2324\n",
      "2331\n",
      "2338\n",
      "2352\n",
      "2359\n",
      "2366\n",
      "2373\n",
      "2387\n",
      "2394\n",
      "2401\n",
      "2408\n",
      "2422\n",
      "2429\n",
      "2436\n",
      "2443\n",
      "2457\n",
      "2464\n",
      "2471\n",
      "2478\n",
      "2492\n",
      "2499\n",
      "2506\n",
      "2513\n",
      "2527\n",
      "2534\n",
      "2541\n",
      "2548\n",
      "2562\n",
      "2569\n",
      "2576\n",
      "2583\n",
      "2597\n",
      "2604\n",
      "2611\n",
      "2618\n",
      "2632\n",
      "2639\n",
      "2646\n",
      "2653\n",
      "2667\n",
      "2674\n",
      "2681\n",
      "2688\n",
      "2702\n",
      "2709\n",
      "2716\n",
      "2723\n",
      "2737\n",
      "2744\n",
      "2751\n",
      "2758\n",
      "2772\n",
      "2779\n",
      "2786\n",
      "2793\n",
      "2807\n",
      "2814\n",
      "2821\n",
      "2828\n",
      "2842\n",
      "2849\n",
      "2856\n",
      "2863\n",
      "2877\n",
      "2884\n",
      "2891\n",
      "2898\n",
      "2912\n",
      "2919\n",
      "2926\n",
      "2933\n",
      "2947\n",
      "2954\n",
      "2961\n",
      "2968\n",
      "2982\n",
      "2989\n",
      "2996\n",
      "3003\n",
      "3017\n",
      "3024\n",
      "3031\n",
      "3038\n",
      "3052\n",
      "3059\n",
      "3066\n",
      "3073\n",
      "3087\n",
      "3094\n",
      "3101\n",
      "3108\n",
      "3122\n",
      "3129\n",
      "3136\n",
      "3143\n",
      "3157\n",
      "3164\n",
      "3171\n",
      "3178\n",
      "3192\n",
      "3199\n"
     ]
    }
   ],
   "source": [
    "# Q7. Write a program which will find all such numbers which are divisible by 7 but are not a multiple of 5, between 2000 and 3200 (both included).\n",
    "for i in range (2000,3201):\n",
    "    if ((i%7==0)and(i%5!=0)):\n",
    "        print(i)"
   ]
  },
  {
   "cell_type": "code",
   "execution_count": 8,
   "metadata": {},
   "outputs": [
    {
     "name": "stdout",
     "output_type": "stream",
     "text": [
      "25164150\n"
     ]
    }
   ],
   "source": [
    "# Q8. Find the difference between the sum of the squares of the first one hundred natural numbers and the square of the sum.\n",
    "sum_of_squares=0\n",
    "square_of_sums=0\n",
    "su=0\n",
    "for i in range (1,101):\n",
    "        su = su + i\n",
    "square_of_sums = su **2\n",
    "for i in range (1,101):\n",
    "        sum_of_squares = sum_of_squares + i*i\n",
    "difference=square_of_sums-sum_of_squares\n",
    "print(difference)"
   ]
  },
  {
   "cell_type": "code",
   "execution_count": 9,
   "metadata": {},
   "outputs": [
    {
     "name": "stdout",
     "output_type": "stream",
     "text": [
      "enter number 8\n",
      "factorial is   120\n"
     ]
    }
   ],
   "source": [
    "# Q9. Write a program which can compute the factorial of a given number.\n",
    "def fact (num):\n",
    "    if num==0 or num ==1 :\n",
    "        return 1\n",
    "    else :\n",
    "         return num * fact(num -1)\n",
    "n=int(input(\"enter number \"))\n",
    "print(\"factorial is  \",fact(5))"
   ]
  },
  {
   "cell_type": "code",
   "execution_count": 10,
   "metadata": {},
   "outputs": [
    {
     "name": "stdout",
     "output_type": "stream",
     "text": [
      "1\n",
      "\n",
      "22\n",
      "\n",
      "333\n",
      "\n",
      "4444\n",
      "\n",
      "55555\n",
      "\n"
     ]
    }
   ],
   "source": [
    "#Q10 part-1\n",
    "\n",
    "    \n",
    "\n",
    "\n",
    "for i in range(1,6):\n",
    "    j=0\n",
    "    while j<i:\n",
    "        print(i,end=\"\")\n",
    "        j+=1\n",
    "    print()\n",
    "    print()"
   ]
  },
  {
   "cell_type": "code",
   "execution_count": 11,
   "metadata": {},
   "outputs": [
    {
     "name": "stdout",
     "output_type": "stream",
     "text": [
      "5 5 5 5 5 \n",
      "5 4 4 4 5 \n",
      "5 4 3 4 5 \n",
      "5 4 4 4 5 \n",
      "5 5 5 5 5 \n"
     ]
    }
   ],
   "source": [
    "#Q10 part-2\n",
    "\n",
    "n=5\n",
    "for i in range(n):\n",
    "    for j in range(n):\n",
    "        print(max(i+1,j+1,n-i,n-j),end=\" \")\n",
    "    print()"
   ]
  },
  {
   "cell_type": "code",
   "execution_count": 12,
   "metadata": {},
   "outputs": [
    {
     "name": "stdout",
     "output_type": "stream",
     "text": [
      "*\n",
      "**\n",
      "***\n",
      "****\n",
      "*****\n"
     ]
    }
   ],
   "source": [
    "#Q10 part-3\n",
    "\n",
    "\n",
    "\n",
    "\n",
    "for i in range(1,6):\n",
    "    j=0\n",
    "    while j<i:\n",
    "        print(\"*\",end =\"\")\n",
    "        j+=1\n",
    "    print()"
   ]
  },
  {
   "cell_type": "code",
   "execution_count": 13,
   "metadata": {},
   "outputs": [
    {
     "name": "stdout",
     "output_type": "stream",
     "text": [
      "****\n",
      "***\n",
      "**\n",
      "*\n"
     ]
    }
   ],
   "source": [
    "#Q10 part-4\n",
    "\n",
    "\n",
    "\n",
    "for i in range(4,0,-1) :\n",
    "    for j in range(1, i + 1):\n",
    "        print(\"*\", end='')\n",
    "    print()"
   ]
  },
  {
   "cell_type": "code",
   "execution_count": 14,
   "metadata": {},
   "outputs": [
    {
     "name": "stdout",
     "output_type": "stream",
     "text": [
      "#####\n",
      "#####\n",
      "#####\n",
      "#####\n",
      "#####\n"
     ]
    }
   ],
   "source": [
    "#Q10 part-5\n",
    "\n",
    "\n",
    "\n",
    "for i in range(5):\n",
    "    print(\"#\"*5)"
   ]
  },
  {
   "cell_type": "code",
   "execution_count": 16,
   "metadata": {},
   "outputs": [
    {
     "name": "stdout",
     "output_type": "stream",
     "text": [
      "6\n",
      "6 + 66 + 666 + 6666 = 7404\n"
     ]
    }
   ],
   "source": [
    "# Q11. Write a program that computes the value of a+aa+aaa+aaaa with a given digit as the value of a\n",
    "\n",
    "p=\"a+aa+aaa+aaaa\"\n",
    "q=p.split(\"+\")\n",
    "num=input()\n",
    "sum=0\n",
    "for i in q:\n",
    "    j=len(i)\n",
    "    sum = sum + int(num*j)\n",
    "    if j<4:\n",
    "        print(num*j, \"+\",end= \" \")\n",
    "    else :\n",
    "        print(num*j ,\"=\", sum)"
   ]
  },
  {
   "cell_type": "code",
   "execution_count": 17,
   "metadata": {},
   "outputs": [
    {
     "name": "stdout",
     "output_type": "stream",
     "text": [
      "enter string abcdefgh\n",
      "8\n"
     ]
    }
   ],
   "source": [
    "# Q12. Find the length of a string using loops (not len())\n",
    "\n",
    "string=input(\"enter string \")\n",
    "count=0\n",
    "for i in string:\n",
    "    count +=1\n",
    "print(count)"
   ]
  },
  {
   "cell_type": "code",
   "execution_count": 18,
   "metadata": {},
   "outputs": [
    {
     "name": "stdout",
     "output_type": "stream",
     "text": [
      "enter stringvipul\n",
      "Number of character is : 5\n",
      "Number of number is : 0\n"
     ]
    }
   ],
   "source": [
    "#Q13. Write a program that accepts a sentence (string) and calculate the number of letters and digits.\n",
    "\n",
    "string=input(\"enter string\")\n",
    "count_num=0\n",
    "count_char=0\n",
    "for i in string:\n",
    "    if i  in \"0123456789\":\n",
    "        count_num +=1\n",
    "    elif i.isalpha():\n",
    "        count_char +=1\n",
    "    else :\n",
    "        pass\n",
    "print(\"Number of character is :\",count_char)\n",
    "print(\"Number of number is :\",count_num)"
   ]
  },
  {
   "cell_type": "code",
   "execution_count": 20,
   "metadata": {},
   "outputs": [
    {
     "name": "stdout",
     "output_type": "stream",
     "text": [
      "enter the string u want in capsvipulsamant\n"
     ]
    },
    {
     "data": {
      "text/plain": [
       "'VIPULSAMANT'"
      ]
     },
     "execution_count": 20,
     "metadata": {},
     "output_type": "execute_result"
    }
   ],
   "source": [
    "#Q14.  Write a program that accepts a string and outputs the string with all capital letters\n",
    "\n",
    "def ret_cap(strg):\n",
    "    return strg.upper()\n",
    "string=input(\"enter the string u want in caps\")\n",
    "ret_cap(string)"
   ]
  },
  {
   "cell_type": "code",
   "execution_count": 21,
   "metadata": {},
   "outputs": [
    {
     "name": "stdout",
     "output_type": "stream",
     "text": [
      "Vipul\n",
      "upper count is :  1\n",
      "lower count is : 4\n"
     ]
    }
   ],
   "source": [
    "# Q15. Write a program that accepts a sentence and calculate the number of upper case letters and lower case letters.\n",
    "def count_ret(strg):\n",
    "    upper_coun=0\n",
    "    lower_coun=0\n",
    "    for i in strg:\n",
    "        if i.isupper():\n",
    "            upper_coun += 1\n",
    "        elif i.islower():\n",
    "            lower_coun += 1\n",
    "        else:\n",
    "            pass\n",
    "    return upper_coun,lower_coun\n",
    "string=input(\"\")\n",
    "upper,lower =count_ret(string)\n",
    "print(\"upper count is : \",upper)\n",
    "print(\"lower count is :\",lower)"
   ]
  },
  {
   "cell_type": "code",
   "execution_count": 22,
   "metadata": {},
   "outputs": [
    {
     "name": "stdout",
     "output_type": "stream",
     "text": [
      "VIPULSAMANT\n",
      "enter the char of which u want freqA\n",
      "2\n"
     ]
    }
   ],
   "source": [
    "# Q16. Write  a program that counts the occurrence of a character in a string\n",
    "string=input()\n",
    "freq={}\n",
    "c=input(\"enter the char of which u want freq\")\n",
    "for char in string:\n",
    "    freq[char]=freq.get(char,0)+1\n",
    "\n",
    "print(freq[c])"
   ]
  },
  {
   "cell_type": "code",
   "execution_count": 23,
   "metadata": {},
   "outputs": [
    {
     "name": "stdout",
     "output_type": "stream",
     "text": [
      "vipul\n",
      "not palindrome\n"
     ]
    }
   ],
   "source": [
    "# Q17. Write a program to find if a given string is a palindrome or not.\n",
    "s1=input()\n",
    "if s1==s1[::-1]:\n",
    "    print(\"palindrome\")\n",
    "else:\n",
    "    print(\"not palindrome\")"
   ]
  },
  {
   "cell_type": "code",
   "execution_count": 25,
   "metadata": {},
   "outputs": [
    {
     "name": "stdout",
     "output_type": "stream",
     "text": [
      "first string vipul \n",
      "second string pul\n",
      "is substring\n"
     ]
    }
   ],
   "source": [
    "# Q18. Write a program which accepts  two strings s1 and s2 and checks if s2 is a substring of s1.\n",
    "\n",
    "\n",
    "a1=input(\"first string \")\n",
    "a2=input(\"second string \")\n",
    "if a2 in a1 :\n",
    "    print(\"is substring\")\n",
    "else:\n",
    "    print(\"is not substring\")"
   ]
  },
  {
   "cell_type": "code",
   "execution_count": 28,
   "metadata": {},
   "outputs": [
    {
     "name": "stdout",
     "output_type": "stream",
     "text": [
      "enter password vipul100$\n",
      "valid password\n"
     ]
    }
   ],
   "source": [
    "# Q19. Make a password validator with the following checks\n",
    "import string\n",
    "char = string.ascii_lowercase\n",
    "num=[i for i in range(10)]\n",
    "spec={'@','#','$','%','&'}\n",
    "\n",
    "has_char=False\n",
    "has_num=False\n",
    "has_spec=False\n",
    "passw=input(\"enter password \")\n",
    "for i in passw:\n",
    "    if i in char:\n",
    "        has_char=True\n",
    "    \n",
    "    if i in spec:\n",
    "        has_spec=True\n",
    "    if i.isdigit():\n",
    "        has_num=True\n",
    "if has_char and has_num and has_spec :\n",
    "    print(\"valid password\")\n",
    "else:\n",
    "    print(\"not valid\")"
   ]
  },
  {
   "cell_type": "code",
   "execution_count": 31,
   "metadata": {},
   "outputs": [
    {
     "name": "stdout",
     "output_type": "stream",
     "text": [
      "hello how are you all\n",
      "e o a u "
     ]
    }
   ],
   "source": [
    "# Q20 s=\"hello how are you all\". For this given string write a code such that it prints  the vowels present in the string s if any.\n",
    "s=input()\n",
    "d={}\n",
    "vowels=\"aAeEiIoOuU\"\n",
    "for i in s:\n",
    "    d[i]=d.get(i,0)+1\n",
    "for j in d:\n",
    "    if j in vowels:\n",
    "        print(j, end= \" \")"
   ]
  },
  {
   "cell_type": "code",
   "execution_count": null,
   "metadata": {},
   "outputs": [],
   "source": []
  }
 ],
 "metadata": {
  "kernelspec": {
   "display_name": "Python 3",
   "language": "python",
   "name": "python3"
  },
  "language_info": {
   "codemirror_mode": {
    "name": "ipython",
    "version": 3
   },
   "file_extension": ".py",
   "mimetype": "text/x-python",
   "name": "python",
   "nbconvert_exporter": "python",
   "pygments_lexer": "ipython3",
   "version": "3.7.3"
  }
 },
 "nbformat": 4,
 "nbformat_minor": 2
}
